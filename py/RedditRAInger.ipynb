{
 "cells": [
  {
   "cell_type": "code",
   "execution_count": 1,
   "id": "047cedfa",
   "metadata": {},
   "outputs": [
    {
     "data": {
      "text/html": [
       "<div>\n",
       "<style scoped>\n",
       "    .dataframe tbody tr th:only-of-type {\n",
       "        vertical-align: middle;\n",
       "    }\n",
       "\n",
       "    .dataframe tbody tr th {\n",
       "        vertical-align: top;\n",
       "    }\n",
       "\n",
       "    .dataframe thead th {\n",
       "        text-align: right;\n",
       "    }\n",
       "</style>\n",
       "<table border=\"1\" class=\"dataframe\">\n",
       "  <thead>\n",
       "    <tr style=\"text-align: right;\">\n",
       "      <th></th>\n",
       "      <th>title</th>\n",
       "      <th>subreddit</th>\n",
       "      <th>is_nsfw</th>\n",
       "    </tr>\n",
       "  </thead>\n",
       "  <tbody>\n",
       "    <tr>\n",
       "      <th>363285</th>\n",
       "      <td>If only Sibelius had 22va lines...</td>\n",
       "      <td>classicalmusic</td>\n",
       "      <td>False</td>\n",
       "    </tr>\n",
       "    <tr>\n",
       "      <th>82884</th>\n",
       "      <td>[buy] SPH video or snap session</td>\n",
       "      <td>Sexsells</td>\n",
       "      <td>True</td>\n",
       "    </tr>\n",
       "    <tr>\n",
       "      <th>515983</th>\n",
       "      <td>Did Bill Clinton bang Kyle’s Mum?</td>\n",
       "      <td>southpark</td>\n",
       "      <td>True</td>\n",
       "    </tr>\n",
       "    <tr>\n",
       "      <th>489579</th>\n",
       "      <td>I painted this over the weekend and then found...</td>\n",
       "      <td>painting</td>\n",
       "      <td>False</td>\n",
       "    </tr>\n",
       "    <tr>\n",
       "      <th>179433</th>\n",
       "      <td>Where are Promenade and Farmland in Ground War...</td>\n",
       "      <td>modernwarfare</td>\n",
       "      <td>False</td>\n",
       "    </tr>\n",
       "  </tbody>\n",
       "</table>\n",
       "</div>"
      ],
      "text/plain": [
       "                                                    title       subreddit  \\\n",
       "363285                 If only Sibelius had 22va lines...  classicalmusic   \n",
       "82884                     [buy] SPH video or snap session        Sexsells   \n",
       "515983                  Did Bill Clinton bang Kyle’s Mum?       southpark   \n",
       "489579  I painted this over the weekend and then found...        painting   \n",
       "179433  Where are Promenade and Farmland in Ground War...   modernwarfare   \n",
       "\n",
       "        is_nsfw  \n",
       "363285    False  \n",
       "82884      True  \n",
       "515983     True  \n",
       "489579    False  \n",
       "179433    False  "
      ]
     },
     "execution_count": 1,
     "metadata": {},
     "output_type": "execute_result"
    }
   ],
   "source": [
    "# Import data\n",
    "import pandas as pd\n",
    "data = pd.read_csv('kaggle_reddit-nsfw-classification-data.csv')\n",
    "\n",
    "# Sample data for faster runtimes\n",
    "data = data.sample(frac=0.1, random_state=42)\n",
    "\n",
    "data.head()"
   ]
  },
  {
   "cell_type": "code",
   "execution_count": 2,
   "id": "0f95211c",
   "metadata": {},
   "outputs": [
    {
     "data": {
      "text/plain": [
       "is_nsfw\n",
       "False    51614\n",
       "True     10181\n",
       "Name: count, dtype: int64"
      ]
     },
     "execution_count": 2,
     "metadata": {},
     "output_type": "execute_result"
    }
   ],
   "source": [
    "# examine the class distribution\n",
    "data.is_nsfw.value_counts()"
   ]
  },
  {
   "cell_type": "code",
   "execution_count": 3,
   "id": "a0989211",
   "metadata": {},
   "outputs": [
    {
     "data": {
      "text/html": [
       "<div>\n",
       "<style scoped>\n",
       "    .dataframe tbody tr th:only-of-type {\n",
       "        vertical-align: middle;\n",
       "    }\n",
       "\n",
       "    .dataframe tbody tr th {\n",
       "        vertical-align: top;\n",
       "    }\n",
       "\n",
       "    .dataframe thead th {\n",
       "        text-align: right;\n",
       "    }\n",
       "</style>\n",
       "<table border=\"1\" class=\"dataframe\">\n",
       "  <thead>\n",
       "    <tr style=\"text-align: right;\">\n",
       "      <th></th>\n",
       "      <th>title</th>\n",
       "      <th>subreddit</th>\n",
       "      <th>is_nsfw</th>\n",
       "      <th>label_num</th>\n",
       "    </tr>\n",
       "  </thead>\n",
       "  <tbody>\n",
       "    <tr>\n",
       "      <th>363285</th>\n",
       "      <td>If only Sibelius had 22va lines...</td>\n",
       "      <td>classicalmusic</td>\n",
       "      <td>False</td>\n",
       "      <td>0</td>\n",
       "    </tr>\n",
       "    <tr>\n",
       "      <th>82884</th>\n",
       "      <td>[buy] SPH video or snap session</td>\n",
       "      <td>Sexsells</td>\n",
       "      <td>True</td>\n",
       "      <td>1</td>\n",
       "    </tr>\n",
       "    <tr>\n",
       "      <th>515983</th>\n",
       "      <td>Did Bill Clinton bang Kyle’s Mum?</td>\n",
       "      <td>southpark</td>\n",
       "      <td>True</td>\n",
       "      <td>1</td>\n",
       "    </tr>\n",
       "    <tr>\n",
       "      <th>489579</th>\n",
       "      <td>I painted this over the weekend and then found...</td>\n",
       "      <td>painting</td>\n",
       "      <td>False</td>\n",
       "      <td>0</td>\n",
       "    </tr>\n",
       "    <tr>\n",
       "      <th>179433</th>\n",
       "      <td>Where are Promenade and Farmland in Ground War...</td>\n",
       "      <td>modernwarfare</td>\n",
       "      <td>False</td>\n",
       "      <td>0</td>\n",
       "    </tr>\n",
       "  </tbody>\n",
       "</table>\n",
       "</div>"
      ],
      "text/plain": [
       "                                                    title       subreddit  \\\n",
       "363285                 If only Sibelius had 22va lines...  classicalmusic   \n",
       "82884                     [buy] SPH video or snap session        Sexsells   \n",
       "515983                  Did Bill Clinton bang Kyle’s Mum?       southpark   \n",
       "489579  I painted this over the weekend and then found...        painting   \n",
       "179433  Where are Promenade and Farmland in Ground War...   modernwarfare   \n",
       "\n",
       "        is_nsfw  label_num  \n",
       "363285    False          0  \n",
       "82884      True          1  \n",
       "515983     True          1  \n",
       "489579    False          0  \n",
       "179433    False          0  "
      ]
     },
     "execution_count": 3,
     "metadata": {},
     "output_type": "execute_result"
    }
   ],
   "source": [
    "# convert label to a numerical variable\n",
    "data['label_num'] = data.is_nsfw.map({False:0, True:1})\n",
    "data.head()"
   ]
  },
  {
   "cell_type": "code",
   "execution_count": 4,
   "id": "103f3760",
   "metadata": {},
   "outputs": [
    {
     "name": "stdout",
     "output_type": "stream",
     "text": [
      "(43256,)\n",
      "(18539,)\n",
      "(43256,)\n",
      "(18539,)\n"
     ]
    }
   ],
   "source": [
    "# split X and y into training and testing sets\n",
    "\n",
    "X = data['title']\n",
    "y = data['label_num']\n",
    "\n",
    "from sklearn.model_selection import train_test_split\n",
    "X_train, X_test, y_train, y_test = train_test_split(X, y, random_state=42, train_size=0.7)\n",
    "print(X_train.shape)\n",
    "print(X_test.shape)\n",
    "print(y_train.shape)\n",
    "print(y_test.shape)"
   ]
  },
  {
   "cell_type": "code",
   "execution_count": 5,
   "id": "dfb6ac17",
   "metadata": {
    "scrolled": true
   },
   "outputs": [
    {
     "name": "stderr",
     "output_type": "stream",
     "text": [
      "[nltk_data] Downloading package stopwords to\n",
      "[nltk_data]     /home/gargoth/nltk_data...\n",
      "[nltk_data]   Package stopwords is already up-to-date!\n",
      "[nltk_data] Downloading package wordnet to /home/gargoth/nltk_data...\n",
      "[nltk_data]   Package wordnet is already up-to-date!\n"
     ]
    },
    {
     "data": {
      "text/plain": [
       "True"
      ]
     },
     "execution_count": 5,
     "metadata": {},
     "output_type": "execute_result"
    }
   ],
   "source": [
    "# Import NLTK and make sure the relevant libraries are downloaded\n",
    "import nltk\n",
    "nltk.download('stopwords')\n",
    "nltk.download('wordnet')"
   ]
  },
  {
   "cell_type": "code",
   "execution_count": 6,
   "id": "f9a31b69",
   "metadata": {},
   "outputs": [],
   "source": [
    "# Extract the tweets\n",
    "titles = data['title'].dropna()\n",
    "\n",
    "# Convert all tweets to lowercase\n",
    "titles = titles.str.lower()\n",
    "\n",
    "# Remove punctuation from tweets, remove stopwords then tokenize\n",
    "from nltk.corpus import stopwords\n",
    "from nltk.stem import WordNetLemmatizer\n",
    "\n",
    "lemmatizer = WordNetLemmatizer()\n",
    "\n",
    "# Create Tokenizer\n",
    "\n",
    "import re\n",
    "\n",
    "def tokenizer(text):\n",
    "    # URL Removal\n",
    "    text = re.sub(r\"http\\S+\", \"\", text)\n",
    "    \n",
    "    # Punctuation Removal\n",
    "    text = ''.join([c for c in text if c.isalnum() or c == ' '])\n",
    "    \n",
    "    # Tokenization\n",
    "    tok_list = nltk.word_tokenize(text)\n",
    "    \n",
    "    # Stopword Removal\n",
    "    tok_list = [word for word in tok_list if word not in stopwords.words('english')]\n",
    "    \n",
    "    # Lemmatization\n",
    "    tok_list = [lemmatizer.lemmatize(word) for word in tok_list]\n",
    "    \n",
    "    return tok_list\n"
   ]
  },
  {
   "cell_type": "code",
   "execution_count": 7,
   "id": "b30c71fc",
   "metadata": {},
   "outputs": [],
   "source": [
    "from sklearn.feature_extraction.text import CountVectorizer\n",
    "from sklearn import decomposition\n",
    "\n",
    "# Generate features\n",
    "vectorizer = CountVectorizer(tokenizer=tokenizer,\n",
    "                             max_df=0.8, token_pattern = None,\n",
    "                             ngram_range=(1,1))\n",
    "\n",
    "# User Dask joblib to parallelize task\n",
    "import joblib\n",
    "from dask.distributed import Client\n",
    "\n",
    "client = Client(processes=False)\n",
    "\n",
    "with joblib.parallel_backend('dask'):\n",
    "    X_final_train = vectorizer.fit_transform(X_train)\n",
    "    X_final_test = vectorizer.transform(X_test)"
   ]
  },
  {
   "cell_type": "code",
   "execution_count": 8,
   "id": "3f0c218d",
   "metadata": {},
   "outputs": [],
   "source": [
    "from sklearn.naive_bayes import MultinomialNB\n",
    "nb = MultinomialNB()\n",
    "nb.fit(X_final_train, y_train)\n",
    "\n",
    "y_final_pred = nb.predict(X_final_test)"
   ]
  },
  {
   "cell_type": "code",
   "execution_count": 9,
   "id": "8d4389fa",
   "metadata": {
    "scrolled": true
   },
   "outputs": [
    {
     "data": {
      "text/plain": [
       "0.9131021090673714"
      ]
     },
     "execution_count": 9,
     "metadata": {},
     "output_type": "execute_result"
    }
   ],
   "source": [
    "# calculate accuracy of class predictions\n",
    "from sklearn import metrics\n",
    "metrics.accuracy_score(y_test, y_final_pred)"
   ]
  }
 ],
 "metadata": {
  "kernelspec": {
   "display_name": "Python 3 (ipykernel)",
   "language": "python",
   "name": "python3"
  },
  "language_info": {
   "codemirror_mode": {
    "name": "ipython",
    "version": 3
   },
   "file_extension": ".py",
   "mimetype": "text/x-python",
   "name": "python",
   "nbconvert_exporter": "python",
   "pygments_lexer": "ipython3",
   "version": "3.10.6"
  }
 },
 "nbformat": 4,
 "nbformat_minor": 5
}
