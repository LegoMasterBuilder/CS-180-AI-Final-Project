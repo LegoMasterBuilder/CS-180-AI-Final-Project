{
 "cells": [
  {
   "attachments": {},
   "cell_type": "markdown",
   "id": "c9c93019",
   "metadata": {},
   "source": [
    "# Reddit RAInger: Classifying Reddit Title using Naive Bayesian Classifier\n",
    "\n",
    "Members:\n",
    "\n",
    "Lorico, Hans Daniel\n",
    "\n",
    "Luteria, Jian Lawrence\n",
    "\n",
    "Punsalan, Lara Angeline\n",
    "\n",
    "Rosales, Christian Jay\n"
   ]
  },
  {
   "attachments": {},
   "cell_type": "markdown",
   "id": "e69a8425",
   "metadata": {},
   "source": [
    "## Project Summary\n",
    "This project aims to develop an artificial intelligence (AI) model that can accurately predict and classify Reddit post headers as either Not Safe For Work (NSFW) or Safe For Work (SFW) using the Naive Bayes method. Using a dataset obtained from Kaggle, an online data science database platform, this project will help users to be notified of the potential risks in case they encounter an NSFW subreddit. Particularly, Redditors (or users of Reddit), researchers, moderators of subreddits will directly benefit from this project.\n",
    "\n",
    "At the end of the entire project, the team intends to produce a web application that shall filter Reddit post titles as either NSFW or SFW."
   ]
  },
  {
   "attachments": {},
   "cell_type": "markdown",
   "id": "58628701",
   "metadata": {},
   "source": [
    "## 1. Importing the Data\n",
    "The data set we used is from the Kaggle post [Reddit post title - NSFW or SFW](https://www.kaggle.com/datasets/drsourcecode/reddit-post-title-nsfw-or-sfw). It has the following columns:\n",
    "- `title`: a string showing the title of the Reddit post.\n",
    "- `subreddit`: a string showing the subreddit where the post came from.\n",
    "- `is_nsfw`: a boolean value that is `true` if the post is NSFW and `false` if it is SFW. This will be used as a label for the model.\n",
    "\n",
    "\n",
    "For faster runtime, we used 10% of the data (i.e., approximately 50,000 entries).\n"
   ]
  },
  {
   "cell_type": "code",
   "execution_count": 64,
   "id": "047cedfa",
   "metadata": {},
   "outputs": [
    {
     "data": {
      "text/html": [
       "<div>\n",
       "<style scoped>\n",
       "    .dataframe tbody tr th:only-of-type {\n",
       "        vertical-align: middle;\n",
       "    }\n",
       "\n",
       "    .dataframe tbody tr th {\n",
       "        vertical-align: top;\n",
       "    }\n",
       "\n",
       "    .dataframe thead th {\n",
       "        text-align: right;\n",
       "    }\n",
       "</style>\n",
       "<table border=\"1\" class=\"dataframe\">\n",
       "  <thead>\n",
       "    <tr style=\"text-align: right;\">\n",
       "      <th></th>\n",
       "      <th>title</th>\n",
       "      <th>subreddit</th>\n",
       "      <th>is_nsfw</th>\n",
       "    </tr>\n",
       "  </thead>\n",
       "  <tbody>\n",
       "    <tr>\n",
       "      <th>363285</th>\n",
       "      <td>If only Sibelius had 22va lines...</td>\n",
       "      <td>classicalmusic</td>\n",
       "      <td>False</td>\n",
       "    </tr>\n",
       "    <tr>\n",
       "      <th>82884</th>\n",
       "      <td>[buy] SPH video or snap session</td>\n",
       "      <td>Sexsells</td>\n",
       "      <td>True</td>\n",
       "    </tr>\n",
       "    <tr>\n",
       "      <th>515983</th>\n",
       "      <td>Did Bill Clinton bang Kyle’s Mum?</td>\n",
       "      <td>southpark</td>\n",
       "      <td>True</td>\n",
       "    </tr>\n",
       "    <tr>\n",
       "      <th>489579</th>\n",
       "      <td>I painted this over the weekend and then found...</td>\n",
       "      <td>painting</td>\n",
       "      <td>False</td>\n",
       "    </tr>\n",
       "    <tr>\n",
       "      <th>179433</th>\n",
       "      <td>Where are Promenade and Farmland in Ground War...</td>\n",
       "      <td>modernwarfare</td>\n",
       "      <td>False</td>\n",
       "    </tr>\n",
       "  </tbody>\n",
       "</table>\n",
       "</div>"
      ],
      "text/plain": [
       "                                                    title       subreddit  \\\n",
       "363285                 If only Sibelius had 22va lines...  classicalmusic   \n",
       "82884                     [buy] SPH video or snap session        Sexsells   \n",
       "515983                  Did Bill Clinton bang Kyle’s Mum?       southpark   \n",
       "489579  I painted this over the weekend and then found...        painting   \n",
       "179433  Where are Promenade and Farmland in Ground War...   modernwarfare   \n",
       "\n",
       "        is_nsfw  \n",
       "363285    False  \n",
       "82884      True  \n",
       "515983     True  \n",
       "489579    False  \n",
       "179433    False  "
      ]
     },
     "execution_count": 64,
     "metadata": {},
     "output_type": "execute_result"
    }
   ],
   "source": [
    "# Import data\n",
    "import pandas as pd\n",
    "data = pd.read_csv('kaggle_reddit-nsfw-classification-data.csv')\n",
    "\n",
    "# Sample data for faster runtimes\n",
    "data = data.sample(frac=0.1, random_state=42)\n",
    "\n",
    "data.head()"
   ]
  },
  {
   "attachments": {},
   "cell_type": "markdown",
   "id": "1ab7f81b",
   "metadata": {},
   "source": [
    "From the code section below, we can observe the following information from the subset of the data set that we will use for the model:\n",
    "- 51,614 entries were classified as *safe for work*.\n",
    "- 10,181 entries were classified as *not safe for work*."
   ]
  },
  {
   "cell_type": "code",
   "execution_count": 65,
   "id": "0f95211c",
   "metadata": {},
   "outputs": [
    {
     "data": {
      "text/plain": [
       "False    51614\n",
       "True     10181\n",
       "Name: is_nsfw, dtype: int64"
      ]
     },
     "execution_count": 65,
     "metadata": {},
     "output_type": "execute_result"
    }
   ],
   "source": [
    "# examine the class distribution\n",
    "data.is_nsfw.value_counts()"
   ]
  },
  {
   "attachments": {},
   "cell_type": "markdown",
   "id": "b5f2ee3c",
   "metadata": {},
   "source": [
    "## 2. Preprocessing\n",
    "We first convert the label we will use (i.e., the `is_nsfw` column) to a numerical value. 0 indicates `False` and 1 indicates `True`."
   ]
  },
  {
   "cell_type": "code",
   "execution_count": 66,
   "id": "a0989211",
   "metadata": {},
   "outputs": [
    {
     "data": {
      "text/html": [
       "<div>\n",
       "<style scoped>\n",
       "    .dataframe tbody tr th:only-of-type {\n",
       "        vertical-align: middle;\n",
       "    }\n",
       "\n",
       "    .dataframe tbody tr th {\n",
       "        vertical-align: top;\n",
       "    }\n",
       "\n",
       "    .dataframe thead th {\n",
       "        text-align: right;\n",
       "    }\n",
       "</style>\n",
       "<table border=\"1\" class=\"dataframe\">\n",
       "  <thead>\n",
       "    <tr style=\"text-align: right;\">\n",
       "      <th></th>\n",
       "      <th>title</th>\n",
       "      <th>subreddit</th>\n",
       "      <th>is_nsfw</th>\n",
       "      <th>label_num</th>\n",
       "    </tr>\n",
       "  </thead>\n",
       "  <tbody>\n",
       "    <tr>\n",
       "      <th>363285</th>\n",
       "      <td>If only Sibelius had 22va lines...</td>\n",
       "      <td>classicalmusic</td>\n",
       "      <td>False</td>\n",
       "      <td>0</td>\n",
       "    </tr>\n",
       "    <tr>\n",
       "      <th>82884</th>\n",
       "      <td>[buy] SPH video or snap session</td>\n",
       "      <td>Sexsells</td>\n",
       "      <td>True</td>\n",
       "      <td>1</td>\n",
       "    </tr>\n",
       "    <tr>\n",
       "      <th>515983</th>\n",
       "      <td>Did Bill Clinton bang Kyle’s Mum?</td>\n",
       "      <td>southpark</td>\n",
       "      <td>True</td>\n",
       "      <td>1</td>\n",
       "    </tr>\n",
       "    <tr>\n",
       "      <th>489579</th>\n",
       "      <td>I painted this over the weekend and then found...</td>\n",
       "      <td>painting</td>\n",
       "      <td>False</td>\n",
       "      <td>0</td>\n",
       "    </tr>\n",
       "    <tr>\n",
       "      <th>179433</th>\n",
       "      <td>Where are Promenade and Farmland in Ground War...</td>\n",
       "      <td>modernwarfare</td>\n",
       "      <td>False</td>\n",
       "      <td>0</td>\n",
       "    </tr>\n",
       "  </tbody>\n",
       "</table>\n",
       "</div>"
      ],
      "text/plain": [
       "                                                    title       subreddit  \\\n",
       "363285                 If only Sibelius had 22va lines...  classicalmusic   \n",
       "82884                     [buy] SPH video or snap session        Sexsells   \n",
       "515983                  Did Bill Clinton bang Kyle’s Mum?       southpark   \n",
       "489579  I painted this over the weekend and then found...        painting   \n",
       "179433  Where are Promenade and Farmland in Ground War...   modernwarfare   \n",
       "\n",
       "        is_nsfw  label_num  \n",
       "363285    False          0  \n",
       "82884      True          1  \n",
       "515983     True          1  \n",
       "489579    False          0  \n",
       "179433    False          0  "
      ]
     },
     "execution_count": 66,
     "metadata": {},
     "output_type": "execute_result"
    }
   ],
   "source": [
    "# convert label to a numerical variable\n",
    "data['label_num'] = data.is_nsfw.map({False:0, True:1})\n",
    "data.head()"
   ]
  },
  {
   "attachments": {},
   "cell_type": "markdown",
   "id": "15c215cf",
   "metadata": {},
   "source": [
    "We then split the data into training and testing sets. The training set has 43256 entries (70% of the data) while the testing set has 18539 (30% of the the data)."
   ]
  },
  {
   "cell_type": "code",
   "execution_count": 67,
   "id": "103f3760",
   "metadata": {},
   "outputs": [
    {
     "name": "stdout",
     "output_type": "stream",
     "text": [
      "(43256,)\n",
      "(18539,)\n",
      "(43256,)\n",
      "(18539,)\n"
     ]
    }
   ],
   "source": [
    "# split X and y into training and testing sets\n",
    "\n",
    "X = data['title']\n",
    "y = data['label_num']\n",
    "\n",
    "from sklearn.model_selection import train_test_split\n",
    "X_train, X_test, y_train, y_test = train_test_split(X, y, random_state=42, train_size=0.7)\n",
    "print(X_train.shape)\n",
    "print(X_test.shape)\n",
    "print(y_train.shape)\n",
    "print(y_test.shape)"
   ]
  },
  {
   "attachments": {},
   "cell_type": "markdown",
   "id": "46f9b027",
   "metadata": {},
   "source": [
    "We then import `nltk`, which allows us remove stopwords as well as perform lemmatization."
   ]
  },
  {
   "cell_type": "code",
   "execution_count": 68,
   "id": "dfb6ac17",
   "metadata": {
    "scrolled": true
   },
   "outputs": [
    {
     "name": "stderr",
     "output_type": "stream",
     "text": [
      "[nltk_data] Downloading package stopwords to\n",
      "[nltk_data]     C:\\Users\\ROG\\AppData\\Roaming\\nltk_data...\n",
      "[nltk_data]   Package stopwords is already up-to-date!\n",
      "[nltk_data] Downloading package wordnet to\n",
      "[nltk_data]     C:\\Users\\ROG\\AppData\\Roaming\\nltk_data...\n",
      "[nltk_data]   Package wordnet is already up-to-date!\n",
      "[nltk_data] Downloading package punkt to\n",
      "[nltk_data]     C:\\Users\\ROG\\AppData\\Roaming\\nltk_data...\n",
      "[nltk_data]   Package punkt is already up-to-date!\n",
      "[nltk_data] Downloading package omw-1.4 to\n",
      "[nltk_data]     C:\\Users\\ROG\\AppData\\Roaming\\nltk_data...\n"
     ]
    },
    {
     "data": {
      "text/plain": [
       "True"
      ]
     },
     "execution_count": 68,
     "metadata": {},
     "output_type": "execute_result"
    }
   ],
   "source": [
    "# Import NLTK and make sure the relevant libraries are downloaded\n",
    "import nltk\n",
    "nltk.download('stopwords')\n",
    "nltk.download('wordnet')\n",
    "nltk.download('punkt')\n",
    "nltk.download('omw-1.4')"
   ]
  },
  {
   "attachments": {},
   "cell_type": "markdown",
   "id": "712d6fb1",
   "metadata": {},
   "source": [
    "In the following code block, we perform the following:\n",
    "1. Extract the reddit titles into a variable called `titles`.\n",
    "2. Convert all the elements in `titles` into lowercase.\n",
    "3. he\n",
    "    3.  Remove punctutations and stopwords of all elements in `titles`.\n",
    "4. "
   ]
  },
  {
   "cell_type": "code",
   "execution_count": 69,
   "id": "f9a31b69",
   "metadata": {},
   "outputs": [],
   "source": [
    "# Extract the reddit titles\n",
    "titles = data['title'].dropna()\n",
    "\n",
    "# Convert all titles to lowercase\n",
    "titles = titles.str.lower()\n",
    "\n",
    "# Remove punctuation from titles, remove stopwords then tokenize\n",
    "from nltk.corpus import stopwords\n",
    "from nltk.stem import WordNetLemmatizer\n",
    "\n",
    "lemmatizer = WordNetLemmatizer()\n",
    "\n",
    "# Create Tokenizer\n",
    "\n",
    "import re\n",
    "\n",
    "def tokenizer(text):\n",
    "    # URL Removal\n",
    "    text = re.sub(r\"http\\S+\", \"\", text)\n",
    "    \n",
    "    # Punctuation Removal\n",
    "    text = ''.join([c for c in text if c.isalnum() or c == ' '])\n",
    "    \n",
    "    # Tokenization\n",
    "    tok_list = nltk.word_tokenize(text)\n",
    "    \n",
    "    # Stopword Removal\n",
    "    tok_list = [word for word in tok_list if word not in stopwords.words('english')]\n",
    "    \n",
    "    # Lemmatization\n",
    "    tok_list = [lemmatizer.lemmatize(word) for word in tok_list]\n",
    "    \n",
    "    return tok_list\n"
   ]
  },
  {
   "cell_type": "code",
   "execution_count": 70,
   "id": "b30c71fc",
   "metadata": {},
   "outputs": [
    {
     "name": "stderr",
     "output_type": "stream",
     "text": [
      "c:\\Users\\ROG\\anaconda3\\lib\\site-packages\\distributed\\node.py:180: UserWarning: Port 8787 is already in use.\n",
      "Perhaps you already have a cluster running?\n",
      "Hosting the HTTP server on port 62905 instead\n",
      "  warnings.warn(\n"
     ]
    }
   ],
   "source": [
    "from sklearn.feature_extraction.text import CountVectorizer\n",
    "\n",
    "# Generate features\n",
    "vectorizer = CountVectorizer(tokenizer=tokenizer,\n",
    "                             max_df=0.8, token_pattern = None,\n",
    "                             ngram_range=(1,1))\n",
    "\n",
    "\n",
    "# User Dask joblib to parallelize task\n",
    "import joblib\n",
    "from dask.distributed import Client\n",
    "\n",
    "client = Client(processes=False)\n",
    "\n",
    "with joblib.parallel_backend('dask'):\n",
    "    X_final_train = vectorizer.fit_transform(X_train)\n",
    "    X_final_test = vectorizer.transform(X_test)"
   ]
  },
  {
   "cell_type": "code",
   "execution_count": 71,
   "id": "3f0c218d",
   "metadata": {},
   "outputs": [],
   "source": [
    "from sklearn.naive_bayes import MultinomialNB\n",
    "nb = MultinomialNB()\n",
    "nb.fit(X_final_train, y_train)\n",
    "\n",
    "y_final_pred = nb.predict(X_final_test)"
   ]
  },
  {
   "cell_type": "code",
   "execution_count": 72,
   "id": "8d4389fa",
   "metadata": {
    "scrolled": true
   },
   "outputs": [
    {
     "data": {
      "text/plain": [
       "0.9131021090673714"
      ]
     },
     "execution_count": 72,
     "metadata": {},
     "output_type": "execute_result"
    }
   ],
   "source": [
    "# calculate accuracy of class predictions\n",
    "from sklearn import metrics\n",
    "metrics.accuracy_score(y_test, y_final_pred)"
   ]
  },
  {
   "cell_type": "code",
   "execution_count": 74,
   "id": "7fe200a0",
   "metadata": {},
   "outputs": [
    {
     "data": {
      "text/plain": [
       "Text(91.68, 0.5, 'true value')"
      ]
     },
     "execution_count": 74,
     "metadata": {},
     "output_type": "execute_result"
    },
    {
     "data": {
      "image/png": "[encoded data removed]",
      "text/plain": [
       "<Figure size 432x288 with 1 Axes>"
      ]
     },
     "metadata": {
      "needs_background": "light"
     },
     "output_type": "display_data"
    }
   ],
   "source": [
    "from sklearn.metrics import confusion_matrix\n",
    "import seaborn as sns\n",
    "import matplotlib.pyplot as plt\n",
    "\n",
    "mat = confusion_matrix(y_test, y_final_pred)\n",
    "sns.heatmap(mat, square = True, annot = True, cbar = False, fmt='g')\n",
    "plt.xlabel('predicted value')\n",
    "plt.ylabel('true value')"
   ]
  }
 ],
 "metadata": {
  "kernelspec": {
   "display_name": "Python 3 (ipykernel)",
   "language": "python",
   "name": "python3"
  },
  "language_info": {
   "codemirror_mode": {
    "name": "ipython",
    "version": 3
   },
   "file_extension": ".py",
   "mimetype": "text/x-python",
   "name": "python",
   "nbconvert_exporter": "python",
   "pygments_lexer": "ipython3",
   "version": "3.9.12"
  }
 },
 "nbformat": 4,
 "nbformat_minor": 5
}
